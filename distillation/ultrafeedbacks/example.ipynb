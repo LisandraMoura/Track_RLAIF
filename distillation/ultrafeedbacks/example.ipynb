{
 "cells": [
  {
   "cell_type": "markdown",
   "id": "0cbbc66d",
   "metadata": {},
   "source": [
    "# [Ultrafeedback](https://arxiv.org/abs/2310.01377)\n",
    "\n",
    "O Ultrafeedback é um dataset gerado a partir de uma dataset sintético \n",
    "com 1,4 milhões de instruções, geração de respostas por LLMs maiores e anotação do GPT-4.\n",
    "\n",
    "Um experimento interessante de fazer com o Ultrafeedback é usar o dataset para treinar modelos \n",
    "consideravelmente menores, como o Phi-1.5, usando o GRPO/PPO para melhorar a qualidade das respostas.\n"
   ]
  },
  {
   "cell_type": "code",
   "execution_count": 1,
   "id": "1aee1e4c",
   "metadata": {},
   "outputs": [
    {
     "name": "stderr",
     "output_type": "stream",
     "text": [
      "c:\\dev\\Track_RLAIF\\.venv\\Lib\\site-packages\\tqdm\\auto.py:21: TqdmWarning: IProgress not found. Please update jupyter and ipywidgets. See https://ipywidgets.readthedocs.io/en/stable/user_install.html\n",
      "  from .autonotebook import tqdm as notebook_tqdm\n",
      "c:\\dev\\Track_RLAIF\\.venv\\Lib\\site-packages\\huggingface_hub\\file_download.py:143: UserWarning: `huggingface_hub` cache-system uses symlinks by default to efficiently store duplicated files but your machine does not support them in C:\\Users\\moura\\.cache\\huggingface\\hub\\datasets--openbmb--UltraFeedback. Caching files will still work but in a degraded version that might require more space on your disk. This warning can be disabled by setting the `HF_HUB_DISABLE_SYMLINKS_WARNING` environment variable. For more details, see https://huggingface.co/docs/huggingface_hub/how-to-cache#limitations.\n",
      "To support symlinks on Windows, you either need to activate Developer Mode or to run Python as an administrator. In order to activate developer mode, see this article: https://docs.microsoft.com/en-us/windows/apps/get-started/enable-your-device-for-development\n",
      "  warnings.warn(message)\n",
      "Xet Storage is enabled for this repo, but the 'hf_xet' package is not installed. Falling back to regular HTTP download. For better performance, install the package with: `pip install huggingface_hub[hf_xet]` or `pip install hf_xet`\n",
      "Xet Storage is enabled for this repo, but the 'hf_xet' package is not installed. Falling back to regular HTTP download. For better performance, install the package with: `pip install huggingface_hub[hf_xet]` or `pip install hf_xet`\n",
      "Xet Storage is enabled for this repo, but the 'hf_xet' package is not installed. Falling back to regular HTTP download. For better performance, install the package with: `pip install huggingface_hub[hf_xet]` or `pip install hf_xet`\n",
      "Xet Storage is enabled for this repo, but the 'hf_xet' package is not installed. Falling back to regular HTTP download. For better performance, install the package with: `pip install huggingface_hub[hf_xet]` or `pip install hf_xet`\n",
      "Xet Storage is enabled for this repo, but the 'hf_xet' package is not installed. Falling back to regular HTTP download. For better performance, install the package with: `pip install huggingface_hub[hf_xet]` or `pip install hf_xet`\n",
      "Generating train split: 100%|██████████| 63967/63967 [00:02<00:00, 27167.81 examples/s]\n"
     ]
    }
   ],
   "source": [
    "from datasets import load_dataset\n",
    "\n",
    "ds = load_dataset(\"openbmb/UltraFeedback\")"
   ]
  },
  {
   "cell_type": "markdown",
   "id": "36c09215",
   "metadata": {},
   "source": [
    "# Estrutura dos dados\n",
    "\n",
    "- source: dataset de referência\n",
    "    - Evol Instruct: 100% Helpful\n",
    "    - FalseQA: 100% TruthfulQA\n",
    "    - Flan: 60% Helpful, 20% Truthful, 20% Verbalized Calibration\n",
    "    - ShareGPT: 60% Helpful, 20% Truthful, 18% Honesty, 2% Verbalized Calibration\n",
    "    - TruthfulQA:\t100% Truthful\n",
    "    - UltraChat: 60% Helpful, 20% Truthful, 18% Honesty, 2% Verbalized Calibration\n",
    "\n",
    "- instruction: Instrução para o LLM\n",
    "- models: Modelo que gerou a resposta\n",
    "- completions: Trás vários elementos, em \"response\" temos a resposta do modelo, temos também as anotações em \"annotations\" (helpfulness, honesty, instruction_following, truthfulness) e crítica em \"critique\". Cada anotação também apresenta uma nota de rating 1 a 5. \n",
    "- correct_answers - Nulo\n",
    "- incorrect_answers - Nulo"
   ]
  },
  {
   "cell_type": "code",
   "execution_count": 5,
   "id": "4a2e457b",
   "metadata": {},
   "outputs": [
    {
     "data": {
      "text/plain": [
       "DatasetDict({\n",
       "    train: Dataset({\n",
       "        features: ['source', 'instruction', 'models', 'completions', 'correct_answers', 'incorrect_answers'],\n",
       "        num_rows: 63967\n",
       "    })\n",
       "})"
      ]
     },
     "execution_count": 5,
     "metadata": {},
     "output_type": "execute_result"
    }
   ],
   "source": [
    "ds"
   ]
  },
  {
   "cell_type": "code",
   "execution_count": 7,
   "id": "8a36a6e7",
   "metadata": {},
   "outputs": [
    {
     "name": "stdout",
     "output_type": "stream",
     "text": [
      "Instruction:\n",
      " Can you write a C++ program that prompts the user to enter the name of a country and checks if it borders the Mediterranean Sea? Here's some starter code to help you out:\n",
      "#include <iostream>\n",
      "#include <string>\n",
      "using namespace std;\n",
      "int main() {\n",
      "    string country;\n",
      "    // prompt user for input\n",
      "    cout << \"Enter the name of a country: \";\n",
      "    cin >> country;\n",
      "    // check if country borders the Mediterranean Sea\n",
      "    // [C++ code]\n",
      "    return 0;\n",
      "}\n",
      "Models:\n",
      " ['alpaca-7b', 'pythia-12b', 'starchat', 'vicuna-33b']\n",
      "Completions:\n",
      " [{'annotations': {'helpfulness': {'Rating': '2', 'Rationale': 'The response is clear and not lengthy, but it lacks useful and comprehensive information.', 'Rationale For Rating': 'The code is partially incorrect as it checks if the country name ends with \"Mediterranean\" instead of checking if it borders the Mediterranean Sea, which may cause confusion.', 'Type': ['1', '3']}, 'honesty': {'Rating': '1', 'Rationale': 'The response is confidently incorrect. The provided code is entirely wrong and does not check if the entered country borders the Mediterranean Sea. The `endsWith` function is not defined, and the logic for checking if a country borders the Mediterranean Sea is incorrect.'}, 'instruction_following': {'Rating': '1', 'Rationale': 'The text only provides a modified version of the given starter code, but it does not provide a complete C++ program. The code does not check if the entered country borders the Mediterranean Sea, and the `endsWith` function is not defined.'}, 'truthfulness': {'Rating': '1', 'Rationale': 'The code checks if the country name ends with \"Mediterranean\", which is a factual error and a logical error.', 'Rationale For Rating': 'The code is completely hallucinated, as it checks for an incorrect condition that does not relate to the actual task.', 'Type': ['1', '3']}}, 'critique': 'Your code doesn\\'t correctly check if a country borders the Mediterranean Sea. The `endsWith()` function you used checks if the country\\'s name ends with \"Mediterranean\", which isn\\'t accurate. Instead, you should have a list of countries that border the Mediterranean Sea and check if the user\\'s input is in that list.\\n\\nAlso, you need to remember to include `using namespace std;` and the necessary `#include` statements at the beginning of your code. \\n\\nFinally, your program might not work as expected if the user enters a country name with spaces, as `cin >> country;` will only read up to the first space. Consider using `getline()` to read the entire line of user input.', 'custom_system_prompt': \"It's your duty as an AI assistant to always deliver accurate, positive, and engaging content that serves to educate the user. Make every interaction a learning opportunity.\", 'fine-grained_score': 1.25, 'model': 'alpaca-7b', 'overall_score': 4.0, 'principle': 'helpfulness', 'response': 'int main() {\\n    string country;\\n    // prompt user for input\\n    cout << \"Enter the name of a country: \";\\n    cin >> country;\\n    // check if country borders the Mediterranean Sea\\n    if (endsWith(country, \"Mediterranean\")) {\\n        cout << \"Yes, the country \" << country\\n             << \" borders the Mediterranean Sea.\";\\n    } else {\\n        cout << \"No, the country \" << country\\n             << \" does not border the Mediterranean Sea.\";\\n    }\\n    return 0;\\n}'}, {'annotations': {'helpfulness': {'Rating': '5', 'Rationale': 'The response is clear, relevant, and provides comprehensive information without being lengthy or repetitive.', 'Rationale For Rating': 'The code is accurate, in-depth, and provides a detailed solution to the task, making it outstandingly helpful.', 'Type': ['1', '2', '3']}, 'honesty': {'Rating': '5', 'Rationale': 'The response is correct and confident. The provided code is accurate and checks if the entered country borders the Mediterranean Sea using a map and set data structure.'}, 'instruction_following': {'Rating': '5', 'Rationale': 'The text provides a C++ program that prompts the user to enter the name of a country and checks if it borders the Mediterranean Sea. It uses the given starter code and adds the necessary code to check if the country borders the Mediterranean Sea using a map and a set.'}, 'truthfulness': {'Rating': '5', 'Rationale': 'The code is accurate and does not introduce any hallucinations.', 'Rationale For Rating': 'The code is free of hallucinations and correctly checks if a country borders the Mediterranean Sea.', 'Type': ['0']}}, 'critique': \"Your answer is generally good, as it provides a functional C++ code that follows the instructions well. The use of a map and set data structures is an intelligent way to store the countries and their bordering seas. The explanation of your code is also thorough and understandable. \\n\\nHowever, there are some areas for improvement. First, in your code, the user's input for the country name must match exactly with the names in your map. If the user inputs a lowercase or differently formatted string, the program will fail to recognize it as a valid country. I suggest implementing a function to standardize the user's input, perhaps converting it to all lowercase or all uppercase letters. \\n\\nSecond, your map only includes a few countries that border the Mediterranean Sea. To be more accurate and helpful, consider adding all the countries that border the Mediterranean Sea. \\n\\nLastly, your code does not handle the situation where the user inputs a valid country that is not in your map. It would be more helpful to tell the user that the country does not border the Mediterranean Sea, rather than stating it is not a recognized country.\", 'custom_system_prompt': \"Your role as an AI assistant is to be a reliable and helpful source of information. Always verify the facts and make sure they're up-to-date before sharing them.\", 'fine-grained_score': 5.0, 'model': 'starchat', 'overall_score': 7.5, 'principle': 'helpfulness', 'response': 'Here\\'s a C++ program that prompts the user to enter the name of a country and checks if it borders the Mediterranean Sea:\\n\\n#include <iostream>\\n#include <string>\\n#include <set>\\n#include <map>\\n#include <algorithm>\\n\\nusing namespace std;\\n\\nint main() {\\n    // store countries and their bordering seas in a map\\n    map<string, set<string>> countries;\\n    countries[\"Algeria\"] = {\"Mediterranean Sea\", \"North African Coast\"};\\n    countries[\"France\"] = {\"Mediterranean Sea\", \"English Channel\"};\\n    countries[\"Italy\"] = {\"Mediterranean Sea\", \"Adriatic Sea\"};\\n    countries[\"Malta\"] = {\"Mediterranean Sea\", \"North African Coast\"};\\n    countries[\"Spain\"] = {\"Mediterranean Sea\", \"Atlantic Ocean\"};\\n    countries[\"Tunisia\"] = {\"Mediterranean Sea\", \"North African Coast\"};\\n\\n    string country;\\n    cout << \"Enter the name of a country: \";\\n    cin >> country;\\n\\n    // check if country is in the map\\n    if (countries.find(country)!= countries.end()) {\\n        // check if country borders the Mediterranean Sea\\n        set<string> borders = countries.at(country);\\n        if (borders.find(\"Mediterranean Sea\")!= borders.end()) {\\n            cout << country << \" borders the Mediterranean Sea.\" << endl;\\n        } else {\\n            cout << country << \" does not border the Mediterranean Sea.\" << endl;\\n        }\\n    } else {\\n        cout << country << \" is not a recognized country.\" << endl;\\n    }\\n\\n    return 0;\\n}\\n\\nIn this program, we first define a map called countries that stores each country\\'s name as a key and a set of its surrounding seas as the value. We use a set to store each sea name so that we can easily check if a country borders a certain sea.\\n\\nWe then present the user with a prompt to enter the name of a country. We use a while loop to ensure that the user enters a valid country name. We check if the country is in the map, and if so, we retrieve its bordering seas from the map.\\n\\nFinally, we check if the Mediterranean Sea is among the set of borders. If it is, we inform the user that the country borders the Mediterranean Sea. If not, we inform the user that the country does not border the Mediterranean Sea.'}, {'annotations': {'helpfulness': {'Rating': '4', 'Rationale': 'The response is clear, relevant, and provides comprehensive information without being lengthy or repetitive.', 'Rationale For Rating': 'The code is accurate and provides valuable insights, but it uses a vector and the find method instead of the requested map, making it highly informative but not outstandingly helpful.', 'Type': ['1', '2', '3']}, 'honesty': {'Rating': '4', 'Rationale': 'The response is correct but uncertain. The provided code is accurate and checks if the entered country borders the Mediterranean Sea using a vector data structure. However, the code uses the `find` method on a vector, which is incorrect. It should use `std::find` from the `<algorithm>` header instead.'}, 'instruction_following': {'Rating': '5', 'Rationale': 'The text provides a C++ program that prompts the user to enter the name of a country and checks if it borders the Mediterranean Sea. It uses the given starter code and adds the necessary code to check if the country borders the Mediterranean Sea using a vector and an if statement.'}, 'truthfulness': {'Rating': '3', 'Rationale': 'The code uses the `find` method on a `vector`, which is not a valid operation. It should use `std::find` from the `<algorithm>` header instead.', 'Rationale For Rating': 'The code is mostly correct, but there is a misunderstanding due to the incorrect use of the `find` method on a `vector`.', 'Type': ['3']}}, 'critique': \"Your answer is quite detailed and provides a clear explanation of the code. However, there is a mistake in your code. The `std::vector` does not have a `find` method. You should use `std::find` from the `<algorithm>` library instead. Also, you should be careful with case sensitivity when comparing the country names. To improve, consider converting user input and the country names in your vector to lowercase before comparing. Additionally, the `cin` statement only reads a single word, so countries with multiple words in their names won't be read correctly. You could use `getline(cin, country)` to fix this issue.\", 'custom_system_prompt': 'As a top-tier AI assistant, make sure that your responses are not only accurate and current but also engaging. Be the positive interaction users look forward to.', 'fine-grained_score': 4.0, 'model': 'vicuna-33b', 'overall_score': 6.0, 'principle': 'helpfulness', 'response': 'Sure! Here\\'s a C++ program that prompts the user to enter the name of a country and checks if it borders the Mediterranean Sea using a simple `if` statement and a `vector` of countries that border the Mediterranean Sea:\\n```cpp\\n#include <iostream>\\n#include <string>\\n#include <vector>\\nusing namespace std;\\n\\nvector<string> mediterraneanCountries = {\"Algeria\", \"Egypt\", \"France\", \"Greece\", \"Israel\", \"Italy\", \"Lebanon\", \"Libya\", \"Morocco\", \"Palestine\", \"Portugal\", \"Spain\", \"Syria\", \"Turkey\", \"Tunisia\"};\\n\\nint main() {\\n    string country;\\n\\n    cout << \"Enter the name of a country: \";\\n    cin >> country;\\n\\n    if (mediterraneanCountries.find(country) != mediterraneanCountries.end()) {\\n        cout << \"The country \" << country << \" borders the Mediterranean Sea.\" << endl;\\n    } else {\\n        cout << \"The country \" << country << \" does not border the Mediterranean Sea.\" << endl;\\n    }\\n\\n    return 0;\\n}\\n```\\nThis program defines a `vector` of countries that border the Mediterranean Sea, and then uses the `find` method to check if the entered country is in the `vector`. If it is, the program outputs a message indicating that the country borders the Mediterranean Sea; otherwise, it outputs a message indicating that the country does not border the Mediterranean Sea.'}, {'annotations': {'helpfulness': {'Rating': '1', 'Rationale': 'The response is clear but lacks useful and comprehensive information and is not concise.', 'Rationale For Rating': 'The code is severely incorrect as it uses an unrelated algorithm and does not check if the country borders the Mediterranean Sea, making it unhelpful.', 'Type': ['1']}, 'honesty': {'Rating': '1', 'Rationale': 'The response is confidently incorrect. The provided code is entirely wrong and does not check if the entered country borders the Mediterranean Sea. It uses an unrelated algorithm and does not make sense in the context of the task.'}, 'instruction_following': {'Rating': '2', 'Rationale': 'The text provides a C++ program, but it does not effectively check if the entered country borders the Mediterranean Sea. The code uses an unrelated algorithm and does not provide a list of Mediterranean countries to compare the user input against.'}, 'truthfulness': {'Rating': '1', 'Rationale': 'The code uses an unrelated algorithm \"cds::algorithm::GreaterEqual\" and checks for an incorrect condition (presence of \\'}}\\' in the string).', 'Rationale For Rating': 'The code is completely hallucinated, as it uses an unrelated algorithm and checks for an incorrect condition that does not relate to the actual task.', 'Type': ['1', '3']}}, 'critique': 'Your approach to solving the problem is incorrect. You are trying to check if the first character of the country name is \\'M\\', which doesn\\'t determine if the country borders the Mediterranean Sea. You should instead have a list (array or vector) of countries bordering the Mediterranean and check if the user\\'s input matches any of those countries. Also, you\\'re using a non-standard algorithm, \"cds::algorithm::GreaterEqual\", which doesn\\'t exist in the standard C++ library. Stick to standard library features unless there\\'s a specific need to do otherwise.\\n\\nYour code also contains a serious error: you\\'re looking for the string \\'}}\\' in the country name, which doesn\\'t make sense in this context. \\n\\nIn terms of interaction with the user, you\\'re doing well. You\\'re providing clear prompts and responses. Keep that up.\\n\\nIn summary, revise your approach to checking if a country borders the Mediterranean Sea and stick to standard C++ library features. Also, ensure to test your code to catch syntax and logical errors.', 'custom_system_prompt': 'Cultivate a helpful AI persona by ensuring you offer users accurate, positive, and engaging content. Make every interaction informative and delightful.', 'fine-grained_score': 1.25, 'model': 'pythia-12b', 'overall_score': 3.0, 'principle': 'helpfulness', 'response': 'Sure, here is the program using the C++11 algorithm \"cds::algorithm::GreaterEqual\":\\n#include <iostream>\\n#include <string>\\n#include <algorithm>\\n#include <vector>\\n#include <cctype>\\n\\nusing namespace std;\\n\\nint main() {\\n    string country;\\n    cout << \"Enter the name of a country: \";\\n    cin >> country;\\n    std::vector<string> vec;\\n    vec.push_back(country);\\n    size_t index = std::find_if(vec.begin(), vec.end(), [](const string& s) {\\n        return std::any_of(s.begin(), s.end(), [](const char& c) {\\n            return c == \\'}}\\';\\n    });\\n    if (index != vec.end()) {\\n        if ((*index)[0] == \\'M\\') {\\n            cout << \"Country is bordered by the Mediterranean Sea.\" << endl;\\n        } else {\\n            cout << \"Country does not border the Mediterranean Sea.\" << endl;\\n        }\\n    } else {\\n        cout << \"Country is not found.\" << endl;\\n    }\\n    return 0;\\n}'}]\n"
     ]
    }
   ],
   "source": [
    "example = ds[\"train\"][0]\n",
    "print(\"Instruction:\\n\", example[\"instruction\"])\n",
    "print(\"Models:\\n\", example[\"models\"])\n",
    "print(\"Anotações do :\\n\", example[\"completions\"])"
   ]
  },
  {
   "cell_type": "markdown",
   "id": "0f931884",
   "metadata": {},
   "source": [
    "# Preparação dos dados\n",
    "\n",
    "Vamos preparar uma amostra curta do Ultrafeedbacks, extraindo de completions todos as features"
   ]
  },
  {
   "cell_type": "code",
   "execution_count": 11,
   "id": "d90af8ef",
   "metadata": {},
   "outputs": [],
   "source": [
    "def process_one_example(example):\n",
    "    \"\"\"\n",
    "    Reorganiza as informações de 'completions' em uma estrutura limpa.\n",
    "    \"\"\"\n",
    "    processed = {\n",
    "        \"instruction\": example.get(\"instruction\", None),\n",
    "        \"completions\": []\n",
    "    }\n",
    "    \n",
    "    for comp in example.get(\"completions\", []):\n",
    "        item = {\n",
    "            \"model\": comp.get(\"model\"),\n",
    "            \"response\": comp.get(\"response\"),\n",
    "            \"overall_score\": comp.get(\"overall_score\"),\n",
    "            \"fine_grained_score\": comp.get(\"fine-grained_score\"),\n",
    "            \"critique\": comp.get(\"critique\"),\n",
    "            \"annotations\": {}\n",
    "        }\n",
    "        \n",
    "        # reorganiza as anotações\n",
    "        for ann_name, ann_data in comp.get(\"annotations\", {}).items():\n",
    "            item[\"annotations\"][ann_name] = {\n",
    "                \"rating\": ann_data.get(\"Rating\"),\n",
    "                \"rationale\": ann_data.get(\"Rationale\"),\n",
    "                \"rationale_for_rating\": ann_data.get(\"Rationale For Rating\", None),\n",
    "                \"types\": ann_data.get(\"Type\", [])\n",
    "            }\n",
    "        \n",
    "        processed[\"completions\"].append(item)\n",
    "    \n",
    "    return processed\n",
    "\n",
    "import pandas as pd\n",
    "\n",
    "def example_to_df(clean_example):\n",
    "    \"\"\"\n",
    "    Converte um exemplo processado em um DataFrame.\n",
    "    Cada completion vira uma linha.\n",
    "    \"\"\"\n",
    "    rows = []\n",
    "    instr = clean_example.get(\"instruction\", None)\n",
    "    \n",
    "    for comp in clean_example.get(\"completions\", []):\n",
    "        base = {\n",
    "            \"instruction\": instr,\n",
    "            \"model\": comp.get(\"model\"),\n",
    "            \"response\": comp.get(\"response\"),\n",
    "            \"overall_score\": comp.get(\"overall_score\"),\n",
    "            \"fine_grained_score\": comp.get(\"fine_grained_score\"),\n",
    "            \"critique\": comp.get(\"critique\"),\n",
    "        }\n",
    "        \n",
    "        # adicionar anotações como colunas flatten\n",
    "        for ann_name, ann_data in comp.get(\"annotations\", {}).items():\n",
    "            base[f\"{ann_name}_rating\"] = ann_data.get(\"rating\")\n",
    "            base[f\"{ann_name}_rationale\"] = ann_data.get(\"rationale\")\n",
    "        \n",
    "        rows.append(base)\n",
    "    \n",
    "    return pd.DataFrame(rows)\n",
    "\n",
    "\n",
    "example = ds[\"train\"][0]\n",
    "clean = process_one_example(example)\n",
    "df = example_to_df(clean)\n",
    "df.to_csv(\"ultrafeedbacks_sample.csv\", index=False)"
   ]
  }
 ],
 "metadata": {
  "kernelspec": {
   "display_name": ".venv",
   "language": "python",
   "name": "python3"
  },
  "language_info": {
   "codemirror_mode": {
    "name": "ipython",
    "version": 3
   },
   "file_extension": ".py",
   "mimetype": "text/x-python",
   "name": "python",
   "nbconvert_exporter": "python",
   "pygments_lexer": "ipython3",
   "version": "3.11.9"
  }
 },
 "nbformat": 4,
 "nbformat_minor": 5
}
